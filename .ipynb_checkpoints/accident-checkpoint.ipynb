{
 "cells": [
  {
   "cell_type": "code",
   "execution_count": 103,
   "id": "6ad3b73c-5868-4287-9987-2678dddcb040",
   "metadata": {},
   "outputs": [],
   "source": [
    "import json\n",
    "import pandas as pd\n",
    "import numpy as np\n",
    "import matplotlib.pyplot as plt\n",
    "import seaborn as sns\n",
    "\n",
    "from sklearn.model_selection import train_test_split, GridSearchCV, cross_val_score\n",
    "from sklearn.preprocessing import LabelEncoder, StandardScaler\n",
    "from sklearn.metrics import accuracy_score, classification_report\n",
    "from sklearn.metrics import accuracy_score, f1_score, recall_score, precision_score\n",
    "from sklearn.preprocessing import StandardScaler, MinMaxScaler, Normalizer\n",
    "from sklearn.decomposition import PCA\n",
    "\n",
    "from sklearn.linear_model import LogisticRegression\n",
    "from sklearn.neighbors import KNeighborsClassifier\n",
    "from sklearn.tree import DecisionTreeClassifier\n",
    "from sklearn.ensemble import RandomForestClassifier, GradientBoostingClassifier\n",
    "from sklearn.svm import SVC\n",
    "from sklearn.naive_bayes import GaussianNB"
   ]
  },
  {
   "cell_type": "code",
   "execution_count": 104,
   "id": "7f251621-2812-44e9-84c5-8dcf7cac0f9e",
   "metadata": {},
   "outputs": [],
   "source": [
    "df = pd.read_csv(\"accident.csv\")"
   ]
  },
  {
   "cell_type": "code",
   "execution_count": 105,
   "id": "0a116442-6ab2-4b54-be7d-2b6a3b5d6a94",
   "metadata": {},
   "outputs": [],
   "source": [
    "df.fillna(df.mode().iloc[0], inplace=True)"
   ]
  },
  {
   "cell_type": "code",
   "execution_count": 106,
   "id": "851813d1-846c-48bc-9869-5520286b0c0f",
   "metadata": {},
   "outputs": [],
   "source": [
    "label_cols = [\"Gender\", \"Helmet_Used\", \"Seatbelt_Used\"]\n",
    "encoder = LabelEncoder()\n",
    "for col in label_cols:\n",
    "    df[col] = encoder.fit_transform(df[col])"
   ]
  },
  {
   "cell_type": "code",
   "execution_count": 107,
   "id": "7c92c22b-ac2a-4e26-8bcd-08bb735cead4",
   "metadata": {},
   "outputs": [],
   "source": [
    "X = df.drop(\"Survived\", axis=1)\n",
    "y = df[\"Survived\"]"
   ]
  },
  {
   "cell_type": "code",
   "execution_count": 108,
   "id": "67b15325-bc35-4d9e-acc8-d37fae1353fc",
   "metadata": {},
   "outputs": [],
   "source": [
    "X_train, X_test, y_train, y_test = train_test_split(X, y, test_size=0.15, random_state=42)"
   ]
  },
  {
   "cell_type": "code",
   "execution_count": 109,
   "id": "6738a816-c608-4d2a-bff1-d36cad1e81a9",
   "metadata": {},
   "outputs": [],
   "source": [
    "param_grids = {\n",
    "    \"SVM\": {\n",
    "        'C': [0.1, 1, 10],\n",
    "        'kernel': ['rbf', 'linear']\n",
    "    },\n",
    "    \"Gradient Boosting\": {\n",
    "        'n_estimators': [100, 200],\n",
    "        'learning_rate': [0.01, 0.1, 0.2],\n",
    "        'max_depth': [3, 5]\n",
    "    },\n",
    "    \"XGBoost\": {\n",
    "        'n_estimators': [100, 200],\n",
    "        'learning_rate': [0.01, 0.1, 0.2],\n",
    "        'max_depth': [3, 5]\n",
    "    }\n",
    "}"
   ]
  },
  {
   "cell_type": "code",
   "execution_count": 110,
   "id": "73a7e876-8075-4a36-a910-f71df18fb137",
   "metadata": {},
   "outputs": [],
   "source": [
    "models = {\n",
    "    \"Logistic Regression\": LogisticRegression(),\n",
    "    \"K-Nearest Neighbors\": KNeighborsClassifier(),\n",
    "    \"Decision Tree\": DecisionTreeClassifier(),\n",
    "    \"Random Forest\": RandomForestClassifier(),\n",
    "    \"Gradient Boosting\": GradientBoostingClassifier(),\n",
    "    \"Support Vector Machine\": SVC(),\n",
    "    \"Naive Bayes\": GaussianNB()\n",
    "}"
   ]
  },
  {
   "cell_type": "code",
   "execution_count": 111,
   "id": "00e633a7-429a-4c81-92d7-30c96eea20a3",
   "metadata": {},
   "outputs": [],
   "source": [
    "scalers = {\n",
    "    \"L1 Normalization\": Normalizer(norm=\"l1\"),\n",
    "    \"L2 Normalization\": Normalizer(norm=\"l2\"),\n",
    "    \"Min-Max Scaling\": MinMaxScaler(),\n",
    "    \"Standard Scaling\": StandardScaler()\n",
    "}"
   ]
  },
  {
   "cell_type": "code",
   "execution_count": 112,
   "id": "14e13b56-e06a-43a1-b153-6964829ec0bf",
   "metadata": {},
   "outputs": [],
   "source": [
    "results_preprocessing = {}\n",
    "\n",
    "for scale_name, scaler in scalers.items():\n",
    "    X_train_scaled = scaler.fit_transform(X_train)\n",
    "    X_test_scaled = scaler.transform(X_test)\n",
    "\n",
    "    results_preprocessing[scale_name] = {}\n",
    "\n",
    "    for name, model in models.items():\n",
    "        model.fit(X_train_scaled, y_train)\n",
    "        y_pred = model.predict(X_test_scaled)\n",
    "\n",
    "        results_preprocessing[scale_name][name] = {\n",
    "            \"Accuracy\": round(accuracy_score(y_test, y_pred), 3),\n",
    "            \"Precision\": round(precision_score(y_test, y_pred, average='weighted'), 3),\n",
    "            \"Recall\": round(recall_score(y_test, y_pred, average='weighted'), 3),\n",
    "            \"F1 Score\": round(f1_score(y_test, y_pred, average='weighted'), 3)\n",
    "        }\n",
    "\n",
    "with open(\"./json/results_preprocessing.json\", \"w\") as f:\n",
    "    json.dump(results_preprocessing, f, indent=4)"
   ]
  },
  {
   "cell_type": "code",
   "execution_count": 113,
   "id": "baaac9b5-2396-4264-9815-c6310e713f7c",
   "metadata": {},
   "outputs": [],
   "source": [
    "results_no_tuning = {}\n",
    "best_hyperparameters = {}\n",
    "\n",
    "for name, model in models.items():\n",
    "    model.fit(X_train, y_train)\n",
    "    y_pred = model.predict(X_test)\n",
    "\n",
    "    results_no_tuning[name] = {\n",
    "        \"Accuracy\": round(accuracy_score(y_test, y_pred), 3),\n",
    "        \"Precision\": round(precision_score(y_test, y_pred, average='weighted'), 3),\n",
    "        \"Recall\": round(recall_score(y_test, y_pred, average='weighted'), 3),\n",
    "        \"F1 Score\": round(f1_score(y_test, y_pred, average='weighted'), 3)\n",
    "    }\n",
    "    \n",
    "with open(\"./json/results_no_tuning.json\", \"w\") as f:\n",
    "    json.dump(results_no_tuning, f, indent=4)"
   ]
  },
  {
   "cell_type": "code",
   "execution_count": 114,
   "id": "56880854-1822-4943-8a3e-3fb09552b777",
   "metadata": {},
   "outputs": [],
   "source": [
    "results_tuned = {}\n",
    "\n",
    "for name, model in models.items():\n",
    "    if name in param_grids:\n",
    "        grid = GridSearchCV(model, param_grids[name], cv=10, scoring='accuracy', n_jobs=-1)\n",
    "        grid.fit(X_train, y_train)\n",
    "        best_model = grid.best_estimator_\n",
    "        best_params = grid.best_params_\n",
    "    else:\n",
    "        best_model = model\n",
    "        best_model.fit(X_train, y_train)\n",
    "        best_params = best_model.get_params()\n",
    "\n",
    "    scores = cross_val_score(best_model, X_train, y_train, cv=10, scoring='accuracy')\n",
    "    avg_accuracy = scores.mean()\n",
    "\n",
    "    y_pred = best_model.predict(X_test)\n",
    "\n",
    "    results_tuned[name] = {\n",
    "        \"Accuracy\": round(accuracy_score(y_test, y_pred), 3),\n",
    "        \"Precision\": round(precision_score(y_test, y_pred, average='weighted'), 3),\n",
    "        \"Recall\": round(recall_score(y_test, y_pred, average='weighted'), 3),\n",
    "        \"F1 Score\": round(f1_score(y_test, y_pred, average='weighted'), 3),\n",
    "        \"Cross-Validation Accuracy (10-Fold)\": round(avg_accuracy, 3)\n",
    "    }\n",
    "    best_hyperparameters[name] = {key: value for key, value in best_params.items()}\n",
    "\n",
    "with open(\"./json/results_tuned.json\", \"w\") as f:\n",
    "    json.dump(results_tuned, f, indent=4)\n",
    "\n",
    "with open(\"./json/best_hyperparameters.json\", \"w\") as f:\n",
    "    json.dump(best_hyperparameters, f, indent=4)"
   ]
  },
  {
   "cell_type": "code",
   "execution_count": 115,
   "id": "ba901b61-8b9e-4f73-b519-b79f9f957b85",
   "metadata": {},
   "outputs": [],
   "source": [
    "scaler = StandardScaler()\n",
    "X_scaled = scaler.fit_transform(X)\n",
    "\n",
    "pca = PCA(n_components=0.95)\n",
    "X_pca = pca.fit_transform(X_scaled)"
   ]
  },
  {
   "cell_type": "code",
   "execution_count": 116,
   "id": "fe21bf8f-8953-4be2-b3f5-5e4d062e0ebd",
   "metadata": {},
   "outputs": [],
   "source": [
    "results_pca = {}\n",
    "\n",
    "for model_name, model in models.items():\n",
    "    model.fit(X_pca, y)\n",
    "    y_pred = model.predict(X_pca)\n",
    "    \n",
    "    results_pca[model_name] = {\n",
    "        \"Accuracy\": round(accuracy_score(y, y_pred), 3),\n",
    "        \"Precision\": round(precision_score(y, y_pred, average='macro'), 3),\n",
    "        \"Recall\": round(recall_score(y, y_pred, average='macro'), 3),\n",
    "        \"F1 Score\": round(f1_score(y, y_pred, average='macro'), 3)\n",
    "    }\n",
    "\n",
    "with open(\"./json/results_pca.json\", \"w\") as json_file:\n",
    "    json.dump(results_pca, json_file, indent=4)"
   ]
  },
  {
   "cell_type": "code",
   "execution_count": null,
   "id": "44c8e918-f031-465c-a368-0658345468e9",
   "metadata": {},
   "outputs": [],
   "source": []
  }
 ],
 "metadata": {
  "kernelspec": {
   "display_name": "Python 3 (ipykernel)",
   "language": "python",
   "name": "python3"
  },
  "language_info": {
   "codemirror_mode": {
    "name": "ipython",
    "version": 3
   },
   "file_extension": ".py",
   "mimetype": "text/x-python",
   "name": "python",
   "nbconvert_exporter": "python",
   "pygments_lexer": "ipython3",
   "version": "3.12.3"
  }
 },
 "nbformat": 4,
 "nbformat_minor": 5
}
